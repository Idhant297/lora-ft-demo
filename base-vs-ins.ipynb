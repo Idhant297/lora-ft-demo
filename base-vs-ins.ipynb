{
 "cells": [
  {
   "cell_type": "markdown",
   "id": "f3e38e29",
   "metadata": {},
   "source": [
    "## this notebook is to compare repsonses from base and instruct models"
   ]
  },
  {
   "cell_type": "code",
   "execution_count": 1,
   "id": "dc9de66b",
   "metadata": {},
   "outputs": [],
   "source": [
    "from transformers import AutoModelForCausalLM, AutoTokenizer"
   ]
  },
  {
   "cell_type": "code",
   "execution_count": 2,
   "id": "39f44fcd",
   "metadata": {},
   "outputs": [],
   "source": [
    "def load_model():\n",
    "    model = AutoModelForCausalLM.from_pretrained(\"Qwen/Qwen2.5-1.5B-Instruct\")\n",
    "    tokenizer = AutoTokenizer.from_pretrained(\"Qwen/Qwen2.5-1.5B-Instruct\")\n",
    "    return model, tokenizer\n",
    "\n",
    "model, tokenizer = load_model()"
   ]
  },
  {
   "cell_type": "code",
   "execution_count": 3,
   "id": "ba8c248f",
   "metadata": {},
   "outputs": [],
   "source": [
    "def load_model_base():\n",
    "    model = AutoModelForCausalLM.from_pretrained(\"Qwen/Qwen2.5-1.5B\")\n",
    "    tokenizer = AutoTokenizer.from_pretrained(\"Qwen/Qwen2.5-1.5B\")\n",
    "    return model, tokenizer\n",
    "\n",
    "model_base, tokenizer_base = load_model_base()\n"
   ]
  },
  {
   "cell_type": "code",
   "execution_count": 4,
   "id": "27d38e27",
   "metadata": {},
   "outputs": [],
   "source": [
    "def stream_instruct_response(instruction=\"What is the capital city of U.S. \"):\n",
    "    # Apply chat template to format the prompt correctly\n",
    "    messages = [\n",
    "        {\"role\": \"system\", \"content\": \"You are a helpful assistant.\"},\n",
    "        {\"role\": \"user\", \"content\": instruction}\n",
    "    ]\n",
    "\n",
    "    # Use apply_chat_template to format the messages properly\n",
    "    text = tokenizer.apply_chat_template(\n",
    "        messages,\n",
    "        tokenize=False,\n",
    "        add_generation_prompt=True\n",
    "    )\n",
    "\n",
    "    inputs = tokenizer(\n",
    "        text,\n",
    "        add_special_tokens=False,\n",
    "        return_tensors=\"pt\",\n",
    "    )\n",
    "\n",
    "    from transformers import TextStreamer\n",
    "\n",
    "    text_streamer = TextStreamer(tokenizer, skip_prompt=True)\n",
    "    _ = model.generate(\n",
    "        **inputs,\n",
    "        streamer=text_streamer,\n",
    "        max_new_tokens=32,\n",
    "        use_cache=True,\n",
    "        temperature=0.7,\n",
    "        min_p=0.1,\n",
    "    )\n"
   ]
  },
  {
   "cell_type": "code",
   "execution_count": null,
   "id": "391b3f0d",
   "metadata": {},
   "outputs": [],
   "source": [
    "def stream_base_response(instruction):\n",
    "    # For base model, use the instruction directly without chat template\n",
    "    text = instruction\n",
    "\n",
    "    inputs = tokenizer_base(\n",
    "        text,\n",
    "        add_special_tokens=True,\n",
    "        return_tensors=\"pt\",\n",
    "    )\n",
    "\n",
    "    from transformers import TextStreamer\n",
    "\n",
    "    text_streamer = TextStreamer(tokenizer_base, skip_prompt=True)\n",
    "    _ = model_base.generate(\n",
    "        **inputs,\n",
    "        streamer=text_streamer,\n",
    "        max_new_tokens=32,\n",
    "        use_cache=True,\n",
    "        temperature=0.7,\n",
    "        pad_token_id=tokenizer_base.eos_token_id,\n",
    "    )"
   ]
  },
  {
   "cell_type": "markdown",
   "id": "24ff4079",
   "metadata": {},
   "source": [
    "---"
   ]
  },
  {
   "cell_type": "code",
   "execution_count": 6,
   "id": "1f6622a1",
   "metadata": {},
   "outputs": [],
   "source": [
    "prompt = \"What is the capital city of U.S. \"\n"
   ]
  },
  {
   "cell_type": "code",
   "execution_count": 7,
   "id": "21d3c072",
   "metadata": {},
   "outputs": [
    {
     "name": "stdout",
     "output_type": "stream",
     "text": [
      "The capital city of the United States is Washington, D.C.<|im_end|>\n"
     ]
    }
   ],
   "source": [
    "stream_instruct_response(prompt)"
   ]
  },
  {
   "cell_type": "code",
   "execution_count": 12,
   "id": "21419e8b",
   "metadata": {},
   "outputs": [
    {
     "name": "stderr",
     "output_type": "stream",
     "text": [
      "The following generation flags are not valid and may be ignored: ['temperature']. Set `TRANSFORMERS_VERBOSITY=info` for more details.\n"
     ]
    },
    {
     "name": "stdout",
     "output_type": "stream",
     "text": [
      "101?\n",
      "The capital city of U.S. 101 is San Francisco, California.<|endoftext|>\n"
     ]
    }
   ],
   "source": [
    "stream_base_response(prompt)"
   ]
  },
  {
   "cell_type": "code",
   "execution_count": null,
   "id": "dfa4f7d5",
   "metadata": {},
   "outputs": [],
   "source": []
  }
 ],
 "metadata": {
  "kernelspec": {
   "display_name": "ml",
   "language": "python",
   "name": "python3"
  },
  "language_info": {
   "codemirror_mode": {
    "name": "ipython",
    "version": 3
   },
   "file_extension": ".py",
   "mimetype": "text/x-python",
   "name": "python",
   "nbconvert_exporter": "python",
   "pygments_lexer": "ipython3",
   "version": "3.11.13"
  }
 },
 "nbformat": 4,
 "nbformat_minor": 5
}
